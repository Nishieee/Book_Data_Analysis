{
 "cells": [
  {
   "cell_type": "code",
   "execution_count": 1,
   "id": "22262ba4-9f7e-4c5b-866f-8652f15b3282",
   "metadata": {},
   "outputs": [],
   "source": [
    "import numpy as np \n",
    "import pandas as pd \n",
    "import csv"
   ]
  },
  {
   "cell_type": "code",
   "execution_count": 7,
   "id": "682d837e-d136-4c37-b1e4-434be8ea6632",
   "metadata": {},
   "outputs": [],
   "source": [
    "metadata = pd.read_csv('/Users/nishitamatlani/downloads/data/SPGC-metadata-2018-07-18.csv')\n",
    "kld_scores = pd.read_csv('/Users/nishitamatlani/downloads/data/KLDscores.csv')\n",
    "extra_controls = pd.read_csv('/Users/nishitamatlani/downloads/data/extra_controls.csv')"
   ]
  },
  {
   "cell_type": "code",
   "execution_count": 9,
   "id": "9f972334-40f9-4ffb-87a5-f9a4b5396e11",
   "metadata": {},
   "outputs": [
    {
     "name": "stdout",
     "output_type": "stream",
     "text": [
      "<class 'pandas.core.frame.DataFrame'>\n",
      "RangeIndex: 57713 entries, 0 to 57712\n",
      "Data columns (total 9 columns):\n",
      " #   Column             Non-Null Count  Dtype  \n",
      "---  ------             --------------  -----  \n",
      " 0   id                 57713 non-null  object \n",
      " 1   title              57642 non-null  object \n",
      " 2   author             55451 non-null  object \n",
      " 3   authoryearofbirth  42946 non-null  float64\n",
      " 4   authoryearofdeath  41850 non-null  float64\n",
      " 5   language           57711 non-null  object \n",
      " 6   downloads          57711 non-null  float64\n",
      " 7   subjects           57713 non-null  object \n",
      " 8   type               57713 non-null  object \n",
      "dtypes: float64(3), object(6)\n",
      "memory usage: 4.0+ MB\n"
     ]
    }
   ],
   "source": [
    "metadata.info()"
   ]
  },
  {
   "cell_type": "code",
   "execution_count": 19,
   "id": "49c01646-e648-471d-95c0-30c6672cf26f",
   "metadata": {},
   "outputs": [
    {
     "data": {
      "text/html": [
       "<div>\n",
       "<style scoped>\n",
       "    .dataframe tbody tr th:only-of-type {\n",
       "        vertical-align: middle;\n",
       "    }\n",
       "\n",
       "    .dataframe tbody tr th {\n",
       "        vertical-align: top;\n",
       "    }\n",
       "\n",
       "    .dataframe thead th {\n",
       "        text-align: right;\n",
       "    }\n",
       "</style>\n",
       "<table border=\"1\" class=\"dataframe\">\n",
       "  <thead>\n",
       "    <tr style=\"text-align: right;\">\n",
       "      <th></th>\n",
       "      <th>id</th>\n",
       "      <th>title</th>\n",
       "      <th>author</th>\n",
       "      <th>authoryearofbirth</th>\n",
       "      <th>authoryearofdeath</th>\n",
       "      <th>language</th>\n",
       "      <th>downloads</th>\n",
       "      <th>subjects</th>\n",
       "      <th>type</th>\n",
       "    </tr>\n",
       "  </thead>\n",
       "  <tbody>\n",
       "    <tr>\n",
       "      <th>0</th>\n",
       "      <td>PG0</td>\n",
       "      <td>NaN</td>\n",
       "      <td>NaN</td>\n",
       "      <td>0</td>\n",
       "      <td>0</td>\n",
       "      <td>NaN</td>\n",
       "      <td>0</td>\n",
       "      <td>set()</td>\n",
       "      <td>Text</td>\n",
       "    </tr>\n",
       "    <tr>\n",
       "      <th>1</th>\n",
       "      <td>PG1</td>\n",
       "      <td>The Declaration of Independence of the United ...</td>\n",
       "      <td>Jefferson, Thomas</td>\n",
       "      <td>1743</td>\n",
       "      <td>1826</td>\n",
       "      <td>['en']</td>\n",
       "      <td>604</td>\n",
       "      <td>{'United States -- History -- Revolution, 1775...</td>\n",
       "      <td>Text</td>\n",
       "    </tr>\n",
       "    <tr>\n",
       "      <th>2</th>\n",
       "      <td>PG2</td>\n",
       "      <td>The United States Bill of Rights: The Ten Orig...</td>\n",
       "      <td>United States</td>\n",
       "      <td>0</td>\n",
       "      <td>0</td>\n",
       "      <td>['en']</td>\n",
       "      <td>158</td>\n",
       "      <td>{'Civil rights -- United States -- Sources', '...</td>\n",
       "      <td>Text</td>\n",
       "    </tr>\n",
       "    <tr>\n",
       "      <th>3</th>\n",
       "      <td>PG3</td>\n",
       "      <td>John F. Kennedy's Inaugural Address</td>\n",
       "      <td>Kennedy, John F. (John Fitzgerald)</td>\n",
       "      <td>1917</td>\n",
       "      <td>1963</td>\n",
       "      <td>['en']</td>\n",
       "      <td>28</td>\n",
       "      <td>{'Presidents -- United States -- Inaugural add...</td>\n",
       "      <td>Text</td>\n",
       "    </tr>\n",
       "    <tr>\n",
       "      <th>4</th>\n",
       "      <td>PG4</td>\n",
       "      <td>Lincoln's Gettysburg Address: Given November 1...</td>\n",
       "      <td>Lincoln, Abraham</td>\n",
       "      <td>1809</td>\n",
       "      <td>1865</td>\n",
       "      <td>['en']</td>\n",
       "      <td>55</td>\n",
       "      <td>{'Consecration of cemeteries -- Pennsylvania -...</td>\n",
       "      <td>Text</td>\n",
       "    </tr>\n",
       "  </tbody>\n",
       "</table>\n",
       "</div>"
      ],
      "text/plain": [
       "    id                                              title  \\\n",
       "0  PG0                                                NaN   \n",
       "1  PG1  The Declaration of Independence of the United ...   \n",
       "2  PG2  The United States Bill of Rights: The Ten Orig...   \n",
       "3  PG3                John F. Kennedy's Inaugural Address   \n",
       "4  PG4  Lincoln's Gettysburg Address: Given November 1...   \n",
       "\n",
       "                               author  authoryearofbirth  authoryearofdeath  \\\n",
       "0                                 NaN                  0                  0   \n",
       "1                   Jefferson, Thomas               1743               1826   \n",
       "2                       United States                  0                  0   \n",
       "3  Kennedy, John F. (John Fitzgerald)               1917               1963   \n",
       "4                    Lincoln, Abraham               1809               1865   \n",
       "\n",
       "  language  downloads                                           subjects  type  \n",
       "0      NaN          0                                              set()  Text  \n",
       "1   ['en']        604  {'United States -- History -- Revolution, 1775...  Text  \n",
       "2   ['en']        158  {'Civil rights -- United States -- Sources', '...  Text  \n",
       "3   ['en']         28  {'Presidents -- United States -- Inaugural add...  Text  \n",
       "4   ['en']         55  {'Consecration of cemeteries -- Pennsylvania -...  Text  "
      ]
     },
     "execution_count": 19,
     "metadata": {},
     "output_type": "execute_result"
    }
   ],
   "source": [
    "metadata.head()"
   ]
  },
  {
   "cell_type": "code",
   "execution_count": 15,
   "id": "2d7b7b69-5333-4a56-9d9d-b137247a1461",
   "metadata": {},
   "outputs": [],
   "source": [
    "metadata['authoryearofbirth'] = metadata['authoryearofbirth'].fillna(0).astype(int)\n",
    "metadata['authoryearofdeath'] = metadata['authoryearofdeath'].fillna(0).astype(int)\n",
    "metadata['downloads'] = metadata['downloads'].fillna(0).astype(int)\n"
   ]
  },
  {
   "cell_type": "code",
   "execution_count": 17,
   "id": "2b9fc441-111e-4fa9-b201-f5b2c6a5c3bf",
   "metadata": {},
   "outputs": [
    {
     "name": "stdout",
     "output_type": "stream",
     "text": [
      "<class 'pandas.core.frame.DataFrame'>\n",
      "RangeIndex: 57713 entries, 0 to 57712\n",
      "Data columns (total 9 columns):\n",
      " #   Column             Non-Null Count  Dtype \n",
      "---  ------             --------------  ----- \n",
      " 0   id                 57713 non-null  object\n",
      " 1   title              57642 non-null  object\n",
      " 2   author             55451 non-null  object\n",
      " 3   authoryearofbirth  57713 non-null  int64 \n",
      " 4   authoryearofdeath  57713 non-null  int64 \n",
      " 5   language           57711 non-null  object\n",
      " 6   downloads          57713 non-null  int64 \n",
      " 7   subjects           57713 non-null  object\n",
      " 8   type               57713 non-null  object\n",
      "dtypes: int64(3), object(6)\n",
      "memory usage: 4.0+ MB\n"
     ]
    }
   ],
   "source": [
    "metadata.info()"
   ]
  },
  {
   "cell_type": "code",
   "execution_count": 21,
   "id": "b31a9788-fca7-445d-a8bf-1cee22ae4913",
   "metadata": {},
   "outputs": [
    {
     "name": "stdout",
     "output_type": "stream",
     "text": [
      "<class 'pandas.core.frame.DataFrame'>\n",
      "RangeIndex: 23193 entries, 0 to 23192\n",
      "Data columns (total 2 columns):\n",
      " #   Column      Non-Null Count  Dtype \n",
      "---  ------      --------------  ----- \n",
      " 0   filename    23193 non-null  object\n",
      " 1   kld_values  23193 non-null  object\n",
      "dtypes: object(2)\n",
      "memory usage: 362.5+ KB\n"
     ]
    }
   ],
   "source": [
    "kld_scores.info()"
   ]
  },
  {
   "cell_type": "code",
   "execution_count": 23,
   "id": "9395a7e2-65ad-43c2-ab59-a3da11d8a259",
   "metadata": {},
   "outputs": [
    {
     "data": {
      "text/html": [
       "<div>\n",
       "<style scoped>\n",
       "    .dataframe tbody tr th:only-of-type {\n",
       "        vertical-align: middle;\n",
       "    }\n",
       "\n",
       "    .dataframe tbody tr th {\n",
       "        vertical-align: top;\n",
       "    }\n",
       "\n",
       "    .dataframe thead th {\n",
       "        text-align: right;\n",
       "    }\n",
       "</style>\n",
       "<table border=\"1\" class=\"dataframe\">\n",
       "  <thead>\n",
       "    <tr style=\"text-align: right;\">\n",
       "      <th></th>\n",
       "      <th>filename</th>\n",
       "      <th>kld_values</th>\n",
       "    </tr>\n",
       "  </thead>\n",
       "  <tbody>\n",
       "    <tr>\n",
       "      <th>0</th>\n",
       "      <td>PG10002</td>\n",
       "      <td>[0.22391005737243896, 0.24226261808703536, 0.2...</td>\n",
       "    </tr>\n",
       "    <tr>\n",
       "      <th>1</th>\n",
       "      <td>PG10005</td>\n",
       "      <td>[0.24107767463211327, 0.24747085497572513, 0.2...</td>\n",
       "    </tr>\n",
       "    <tr>\n",
       "      <th>2</th>\n",
       "      <td>PG10003</td>\n",
       "      <td>[0.2502283960399736, 0.2304129699198611, 0.238...</td>\n",
       "    </tr>\n",
       "    <tr>\n",
       "      <th>3</th>\n",
       "      <td>PG10008</td>\n",
       "      <td>[0.2576982842724978, 0.2424932127358288, 0.220...</td>\n",
       "    </tr>\n",
       "    <tr>\n",
       "      <th>4</th>\n",
       "      <td>PG10012</td>\n",
       "      <td>[0.25125974534678364, 0.23622148585532693, 0.2...</td>\n",
       "    </tr>\n",
       "  </tbody>\n",
       "</table>\n",
       "</div>"
      ],
      "text/plain": [
       "  filename                                         kld_values\n",
       "0  PG10002  [0.22391005737243896, 0.24226261808703536, 0.2...\n",
       "1  PG10005  [0.24107767463211327, 0.24747085497572513, 0.2...\n",
       "2  PG10003  [0.2502283960399736, 0.2304129699198611, 0.238...\n",
       "3  PG10008  [0.2576982842724978, 0.2424932127358288, 0.220...\n",
       "4  PG10012  [0.25125974534678364, 0.23622148585532693, 0.2..."
      ]
     },
     "execution_count": 23,
     "metadata": {},
     "output_type": "execute_result"
    }
   ],
   "source": [
    "kld_scores.head()"
   ]
  },
  {
   "cell_type": "code",
   "execution_count": 25,
   "id": "c8ac07df-7285-4fa3-83cb-32cff1d75721",
   "metadata": {},
   "outputs": [
    {
     "name": "stdout",
     "output_type": "stream",
     "text": [
      "<class 'pandas.core.frame.DataFrame'>\n",
      "RangeIndex: 18726 entries, 0 to 18725\n",
      "Data columns (total 23 columns):\n",
      " #   Column                Non-Null Count  Dtype  \n",
      "---  ------                --------------  -----  \n",
      " 0   id                    18726 non-null  object \n",
      " 1   subj2_war             18726 non-null  int64  \n",
      " 2   subj2_adventure       18726 non-null  int64  \n",
      " 3   subj2_comedy          18726 non-null  int64  \n",
      " 4   subj2_biography       18726 non-null  int64  \n",
      " 5   subj2_romance         18726 non-null  int64  \n",
      " 6   subj2_drama           18726 non-null  int64  \n",
      " 7   subj2_fantasy         18726 non-null  int64  \n",
      " 8   subj2_family          18726 non-null  int64  \n",
      " 9   subj2_sciencefiction  18726 non-null  int64  \n",
      " 10  subj2_action          18726 non-null  int64  \n",
      " 11  subj2_thriller        18726 non-null  int64  \n",
      " 12  subj2_western         18726 non-null  int64  \n",
      " 13  subj2_horror          18726 non-null  int64  \n",
      " 14  subj2_mystery         18726 non-null  int64  \n",
      " 15  subj2_crime           18726 non-null  int64  \n",
      " 16  subj2_history         18726 non-null  int64  \n",
      " 17  subj2_periodicals     18726 non-null  int64  \n",
      " 18  subj2_others          18726 non-null  int64  \n",
      " 19  speed                 16038 non-null  float64\n",
      " 20  sentiment_avg         16038 non-null  float64\n",
      " 21  sentiment_vol         16038 non-null  float64\n",
      " 22  wordcount             16038 non-null  float64\n",
      "dtypes: float64(4), int64(18), object(1)\n",
      "memory usage: 3.3+ MB\n"
     ]
    }
   ],
   "source": [
    "extra_controls.info()"
   ]
  },
  {
   "cell_type": "code",
   "execution_count": null,
   "id": "40b9b88a-c2be-4279-9c7d-5b34eab79a69",
   "metadata": {},
   "outputs": [],
   "source": [
    "\n",
    "merged_df_1 = pd.merge(metadata, kld_scores, on='id', how='inner')\n",
    "\n",
    "# Merge the result with extra_controls on the common key 'id'\n",
    "final_merged_df = pd.merge(merged_df_1, extra_controls, on='id', how='inner')"
   ]
  }
 ],
 "metadata": {
  "kernelspec": {
   "display_name": "Python 3 (ipykernel)",
   "language": "python",
   "name": "python3"
  },
  "language_info": {
   "codemirror_mode": {
    "name": "ipython",
    "version": 3
   },
   "file_extension": ".py",
   "mimetype": "text/x-python",
   "name": "python",
   "nbconvert_exporter": "python",
   "pygments_lexer": "ipython3",
   "version": "3.11.5"
  }
 },
 "nbformat": 4,
 "nbformat_minor": 5
}
